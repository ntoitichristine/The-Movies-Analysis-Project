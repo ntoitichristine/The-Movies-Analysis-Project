{
 "cells": [
  {
   "cell_type": "markdown",
   "metadata": {},
   "source": [
    "### Final Project Submission\n",
    "\n",
    "* Student name:                                 CHRISTINE NKIROTE NTOITI\n",
    "* Student pace:                                 part time \n",
    "* Scheduled project review date/time: \n",
    "* Instructor name:                              DANIEL EKALE/SAMUEL KARU\n",
    "* Blog post URL:\n"
   ]
  },
  {
   "cell_type": "markdown",
   "metadata": {},
   "source": [
    "# Movies Analysis\n"
   ]
  },
  {
   "cell_type": "markdown",
   "metadata": {},
   "source": [
    "## Project Overview\n",
    "The project aims to provide actionable insights to guide the newly established movie studio in making data-driven decisions on which films to produce by identifying successful genres, themes, and key factors such as budget, cast, marketing, and critical reception. \n",
    "The project's primary audience includes the Head of the Movie Studio, the Creative Development Team, and the Marketing Team. These teams will use these insights to inform long-term planning, content creation, and promotional strategies. \n",
    "Key questions to be explored include the relationship between genre and box office revenue, the impact of budgets and reviews on performance, and the influence of actors, directors, and release timing. \n",
    "The deliverables will include a detailed analysis report, actionable recommendations, visualizations of trends and patterns, and potentially a predictive model for estimating box office success, all aimed at helping the movie studio produce films that align with market trends and maximize potential returns.\n",
    "\n",
    "\n",
    "\n"
   ]
  },
  {
   "cell_type": "markdown",
   "metadata": {},
   "source": [
    "## Business Problem\n",
    "The newly established movie studio, is keen to determine how to translate historical performance data into strategic decisions about film development, to produce content that is more likely to succeed commercially and meet audience demand. \n",
    "Despite being in a highly competitive industry, the movie studio lacks the data-driven insights needed to make informed decisions about which types of films to produce. Without understanding current trends in the movie market, including the genres, themes, budgets, cast, and production values that are most likely to succeed at the box office, the studio risks investing in film projects that may underperform or fail to attract audiences. The company is seeking to leverage data from multiple reputable sources (Box Office Mojo, IMDB, Rotten Tomatoes, The MovieDB, and The Numbers) to uncover actionable insights that will guide the creative, financial, and marketing decisions for the studio."
   ]
  },
  {
   "cell_type": "markdown",
   "metadata": {},
   "source": [
    "## Data Understanding\n",
    "This project aims to analyze the current movie landscape using datasets from sources like [Box Office Mojo](https://github.com/ntoitichristine/movies-phase-2-project-/blob/main/zippedData/bom.movie_gross.csv.gz)\n",
    " ,[IMDb]https://github.com/ntoitichristine/movies-phase-2-project-/blob/main/zippedData/im.db.zipB , Rotten Tomatose](https://github.com/ntoitichristine/movies-phase-2-project-/blob/main/zippedData/rt.movie_info.tsv.gzs, The MovieBD](https://github.com/ntoitichristine/movies-phase-2-project-/blob/main/zippedData/tmdb.movies.csv.gzB an [ The Numbesr](https://github.com/ntoitichristine/movies-phase-2-project-/blob/main/zippedData/tn.movie_budgets.csv.gz)  to uncover trends and patterns in the types of films that perform well at the box office. "
   ]
  },
  {
   "cell_type": "code",
   "execution_count": 3,
   "metadata": {},
   "outputs": [],
   "source": [
    "#install all libraries to be used\n",
    "import pandas as pd\n",
    "import numpy as np\n",
    "import seaborn as sns\n",
    "import scipy as sp\n",
    "import scipy.stats as st\n",
    "import sqlite3\n",
    "import zipfile\n",
    "import os\n",
    "import statsmodels.api as sm\n",
    "from statsmodels.stats.power import TTestIndPower, TTestPower\n",
    "import statsmodels.formula as smf\n",
    "import matplotlib.pyplot as plt\n",
    "%matplotlib inline\n",
    "# Ignore all warnings\n",
    "import warnings\n",
    "warnings.filterwarnings('ignore')"
   ]
  },
  {
   "cell_type": "markdown",
   "metadata": {},
   "source": [
    "### Box Office Movies Data"
   ]
  },
  {
   "cell_type": "code",
   "execution_count": 4,
   "metadata": {
    "scrolled": true
   },
   "outputs": [
    {
     "name": "stdout",
     "output_type": "stream",
     "text": [
      "<class 'pandas.core.frame.DataFrame'>\n",
      "RangeIndex: 3387 entries, 0 to 3386\n",
      "Data columns (total 5 columns):\n",
      " #   Column          Non-Null Count  Dtype  \n",
      "---  ------          --------------  -----  \n",
      " 0   title           3387 non-null   object \n",
      " 1   studio          3382 non-null   object \n",
      " 2   domestic_gross  3359 non-null   float64\n",
      " 3   foreign_gross   2037 non-null   object \n",
      " 4   year            3387 non-null   int64  \n",
      "dtypes: float64(1), int64(1), object(3)\n",
      "memory usage: 132.4+ KB\n"
     ]
    }
   ],
   "source": [
    "#file to the bom zip file\n",
    "bom_path = \"./zippedData/bom.movie_gross.csv.gz\"\n",
    "#read the csv file\n",
    "bom_df = pd.read_csv(bom_path)\n",
    "bom_df.info()"
   ]
  },
  {
   "cell_type": "code",
   "execution_count": 5,
   "metadata": {},
   "outputs": [
    {
     "data": {
      "text/html": [
       "<div>\n",
       "<style scoped>\n",
       "    .dataframe tbody tr th:only-of-type {\n",
       "        vertical-align: middle;\n",
       "    }\n",
       "\n",
       "    .dataframe tbody tr th {\n",
       "        vertical-align: top;\n",
       "    }\n",
       "\n",
       "    .dataframe thead th {\n",
       "        text-align: right;\n",
       "    }\n",
       "</style>\n",
       "<table border=\"1\" class=\"dataframe\">\n",
       "  <thead>\n",
       "    <tr style=\"text-align: right;\">\n",
       "      <th></th>\n",
       "      <th>domestic_gross</th>\n",
       "      <th>year</th>\n",
       "    </tr>\n",
       "  </thead>\n",
       "  <tbody>\n",
       "    <tr>\n",
       "      <th>count</th>\n",
       "      <td>3.359000e+03</td>\n",
       "      <td>3387.000000</td>\n",
       "    </tr>\n",
       "    <tr>\n",
       "      <th>mean</th>\n",
       "      <td>2.874585e+07</td>\n",
       "      <td>2013.958075</td>\n",
       "    </tr>\n",
       "    <tr>\n",
       "      <th>std</th>\n",
       "      <td>6.698250e+07</td>\n",
       "      <td>2.478141</td>\n",
       "    </tr>\n",
       "    <tr>\n",
       "      <th>min</th>\n",
       "      <td>1.000000e+02</td>\n",
       "      <td>2010.000000</td>\n",
       "    </tr>\n",
       "    <tr>\n",
       "      <th>25%</th>\n",
       "      <td>1.200000e+05</td>\n",
       "      <td>2012.000000</td>\n",
       "    </tr>\n",
       "    <tr>\n",
       "      <th>50%</th>\n",
       "      <td>1.400000e+06</td>\n",
       "      <td>2014.000000</td>\n",
       "    </tr>\n",
       "    <tr>\n",
       "      <th>75%</th>\n",
       "      <td>2.790000e+07</td>\n",
       "      <td>2016.000000</td>\n",
       "    </tr>\n",
       "    <tr>\n",
       "      <th>max</th>\n",
       "      <td>9.367000e+08</td>\n",
       "      <td>2018.000000</td>\n",
       "    </tr>\n",
       "  </tbody>\n",
       "</table>\n",
       "</div>"
      ],
      "text/plain": [
       "       domestic_gross         year\n",
       "count    3.359000e+03  3387.000000\n",
       "mean     2.874585e+07  2013.958075\n",
       "std      6.698250e+07     2.478141\n",
       "min      1.000000e+02  2010.000000\n",
       "25%      1.200000e+05  2012.000000\n",
       "50%      1.400000e+06  2014.000000\n",
       "75%      2.790000e+07  2016.000000\n",
       "max      9.367000e+08  2018.000000"
      ]
     },
     "execution_count": 5,
     "metadata": {},
     "output_type": "execute_result"
    }
   ],
   "source": [
    "bom_df.describe()"
   ]
  },
  {
   "cell_type": "code",
   "execution_count": 7,
   "metadata": {},
   "outputs": [
    {
     "data": {
      "text/plain": [
       "title                0\n",
       "studio               5\n",
       "domestic_gross      28\n",
       "foreign_gross     1350\n",
       "year                 0\n",
       "dtype: int64"
      ]
     },
     "execution_count": 7,
     "metadata": {},
     "output_type": "execute_result"
    }
   ],
   "source": [
    "#convert \n",
    "bom_df.isnull().sum()"
   ]
  },
  {
   "cell_type": "markdown",
   "metadata": {},
   "source": [
    "### IMDb Data\n",
    "This is a SQLite database file containing information about the movies production, detailing movie basics, directors, cast, writers, etc. "
   ]
  },
  {
   "cell_type": "code",
   "execution_count": 9,
   "metadata": {},
   "outputs": [],
   "source": [
    "#file to the imdb zip file\n",
    "imdb_zip_path = \"./zippedData/im.db.zip\"\n",
    "#path to extracted imdb file\n",
    "imdb_path = \"./zippedData/im.db\"\n",
    "\n",
    "#extract the SQLite database from the zipfile\n",
    "with zipfile.ZipFile(imdb_zip_path, 'r') as zip_ref:\n",
    "    zip_ref.extractall(os.path.dirname(imdb_path))  \n",
    "    \n",
    "#create a connection\n",
    "conn = sqlite3.connect(imdb_path)\n",
    "#initialize a cursor\n",
    "cur = conn.cursor()"
   ]
  },
  {
   "cell_type": "code",
   "execution_count": 5,
   "metadata": {
    "scrolled": true
   },
   "outputs": [
    {
     "data": {
      "text/html": [
       "<div>\n",
       "<style scoped>\n",
       "    .dataframe tbody tr th:only-of-type {\n",
       "        vertical-align: middle;\n",
       "    }\n",
       "\n",
       "    .dataframe tbody tr th {\n",
       "        vertical-align: top;\n",
       "    }\n",
       "\n",
       "    .dataframe thead th {\n",
       "        text-align: right;\n",
       "    }\n",
       "</style>\n",
       "<table border=\"1\" class=\"dataframe\">\n",
       "  <thead>\n",
       "    <tr style=\"text-align: right;\">\n",
       "      <th></th>\n",
       "      <th>Table Names</th>\n",
       "    </tr>\n",
       "  </thead>\n",
       "  <tbody>\n",
       "    <tr>\n",
       "      <th>0</th>\n",
       "      <td>movie_basics</td>\n",
       "    </tr>\n",
       "    <tr>\n",
       "      <th>1</th>\n",
       "      <td>directors</td>\n",
       "    </tr>\n",
       "    <tr>\n",
       "      <th>2</th>\n",
       "      <td>known_for</td>\n",
       "    </tr>\n",
       "    <tr>\n",
       "      <th>3</th>\n",
       "      <td>movie_akas</td>\n",
       "    </tr>\n",
       "    <tr>\n",
       "      <th>4</th>\n",
       "      <td>movie_ratings</td>\n",
       "    </tr>\n",
       "    <tr>\n",
       "      <th>5</th>\n",
       "      <td>persons</td>\n",
       "    </tr>\n",
       "    <tr>\n",
       "      <th>6</th>\n",
       "      <td>principals</td>\n",
       "    </tr>\n",
       "    <tr>\n",
       "      <th>7</th>\n",
       "      <td>writers</td>\n",
       "    </tr>\n",
       "  </tbody>\n",
       "</table>\n",
       "</div>"
      ],
      "text/plain": [
       "     Table Names\n",
       "0   movie_basics\n",
       "1      directors\n",
       "2      known_for\n",
       "3     movie_akas\n",
       "4  movie_ratings\n",
       "5        persons\n",
       "6     principals\n",
       "7        writers"
      ]
     },
     "execution_count": 5,
     "metadata": {},
     "output_type": "execute_result"
    }
   ],
   "source": [
    "# show tables in the database\n",
    "\n",
    "tables = \"\"\"\n",
    "            SELECT name \n",
    "            AS 'Table Names' \n",
    "            FROM sqlite_master \n",
    "            WHERE type='table';\"\"\"\n",
    "\n",
    "pd.read_sql(tables, conn)"
   ]
  },
  {
   "cell_type": "code",
   "execution_count": 11,
   "metadata": {},
   "outputs": [
    {
     "data": {
      "text/html": [
       "<div>\n",
       "<style scoped>\n",
       "    .dataframe tbody tr th:only-of-type {\n",
       "        vertical-align: middle;\n",
       "    }\n",
       "\n",
       "    .dataframe tbody tr th {\n",
       "        vertical-align: top;\n",
       "    }\n",
       "\n",
       "    .dataframe thead th {\n",
       "        text-align: right;\n",
       "    }\n",
       "</style>\n",
       "<table border=\"1\" class=\"dataframe\">\n",
       "  <thead>\n",
       "    <tr style=\"text-align: right;\">\n",
       "      <th></th>\n",
       "      <th>movie_id</th>\n",
       "      <th>primary_title</th>\n",
       "      <th>original_title</th>\n",
       "      <th>start_year</th>\n",
       "      <th>runtime_minutes</th>\n",
       "      <th>genres</th>\n",
       "    </tr>\n",
       "  </thead>\n",
       "  <tbody>\n",
       "    <tr>\n",
       "      <th>0</th>\n",
       "      <td>tt0063540</td>\n",
       "      <td>Sunghursh</td>\n",
       "      <td>Sunghursh</td>\n",
       "      <td>2013</td>\n",
       "      <td>175.0</td>\n",
       "      <td>Action,Crime,Drama</td>\n",
       "    </tr>\n",
       "    <tr>\n",
       "      <th>1</th>\n",
       "      <td>tt0066787</td>\n",
       "      <td>One Day Before the Rainy Season</td>\n",
       "      <td>Ashad Ka Ek Din</td>\n",
       "      <td>2019</td>\n",
       "      <td>114.0</td>\n",
       "      <td>Biography,Drama</td>\n",
       "    </tr>\n",
       "    <tr>\n",
       "      <th>2</th>\n",
       "      <td>tt0069049</td>\n",
       "      <td>The Other Side of the Wind</td>\n",
       "      <td>The Other Side of the Wind</td>\n",
       "      <td>2018</td>\n",
       "      <td>122.0</td>\n",
       "      <td>Drama</td>\n",
       "    </tr>\n",
       "    <tr>\n",
       "      <th>3</th>\n",
       "      <td>tt0069204</td>\n",
       "      <td>Sabse Bada Sukh</td>\n",
       "      <td>Sabse Bada Sukh</td>\n",
       "      <td>2018</td>\n",
       "      <td>NaN</td>\n",
       "      <td>Comedy,Drama</td>\n",
       "    </tr>\n",
       "    <tr>\n",
       "      <th>4</th>\n",
       "      <td>tt0100275</td>\n",
       "      <td>The Wandering Soap Opera</td>\n",
       "      <td>La Telenovela Errante</td>\n",
       "      <td>2017</td>\n",
       "      <td>80.0</td>\n",
       "      <td>Comedy,Drama,Fantasy</td>\n",
       "    </tr>\n",
       "  </tbody>\n",
       "</table>\n",
       "</div>"
      ],
      "text/plain": [
       "    movie_id                    primary_title              original_title  \\\n",
       "0  tt0063540                        Sunghursh                   Sunghursh   \n",
       "1  tt0066787  One Day Before the Rainy Season             Ashad Ka Ek Din   \n",
       "2  tt0069049       The Other Side of the Wind  The Other Side of the Wind   \n",
       "3  tt0069204                  Sabse Bada Sukh             Sabse Bada Sukh   \n",
       "4  tt0100275         The Wandering Soap Opera       La Telenovela Errante   \n",
       "\n",
       "   start_year  runtime_minutes                genres  \n",
       "0        2013            175.0    Action,Crime,Drama  \n",
       "1        2019            114.0       Biography,Drama  \n",
       "2        2018            122.0                 Drama  \n",
       "3        2018              NaN          Comedy,Drama  \n",
       "4        2017             80.0  Comedy,Drama,Fantasy  "
      ]
     },
     "execution_count": 11,
     "metadata": {},
     "output_type": "execute_result"
    }
   ],
   "source": [
    "#load the tables into pandas DataFrames\n",
    "movie_basics = pd.read_sql(\"SELECT * FROM movie_basics\", conn)\n",
    "directors = pd.read_sql(\"SELECT * FROM directors\", conn)\n",
    "known_for = pd.read_sql(\"SELECT * FROM known_for\", conn)\n",
    "movie_akas = pd.read_sql(\"SELECT * FROM movie_akas\", conn)\n",
    "movie_ratings = pd.read_sql(\"SELECT * FROM movie_ratings\", conn)\n",
    "persons = pd.read_sql(\"SELECT * FROM persons\", conn)\n",
    "principals = pd.read_sql(\"SELECT * FROM principals\", conn)\n",
    "writers = pd.read_sql(\"SELECT * FROM writers\", conn)\n",
    "\n",
    "# Inspect the data\n",
    "movie_basics.head()"
   ]
  },
  {
   "cell_type": "markdown",
   "metadata": {},
   "source": [
    "### Rotten Tomatoes: Movie Info Data\n"
   ]
  },
  {
   "cell_type": "code",
   "execution_count": 12,
   "metadata": {
    "scrolled": true
   },
   "outputs": [
    {
     "name": "stdout",
     "output_type": "stream",
     "text": [
      "<class 'pandas.core.frame.DataFrame'>\n",
      "RangeIndex: 1560 entries, 0 to 1559\n",
      "Data columns (total 12 columns):\n",
      " #   Column        Non-Null Count  Dtype \n",
      "---  ------        --------------  ----- \n",
      " 0   id            1560 non-null   int64 \n",
      " 1   synopsis      1498 non-null   object\n",
      " 2   rating        1557 non-null   object\n",
      " 3   genre         1552 non-null   object\n",
      " 4   director      1361 non-null   object\n",
      " 5   writer        1111 non-null   object\n",
      " 6   theater_date  1201 non-null   object\n",
      " 7   dvd_date      1201 non-null   object\n",
      " 8   currency      340 non-null    object\n",
      " 9   box_office    340 non-null    object\n",
      " 10  runtime       1530 non-null   object\n",
      " 11  studio        494 non-null    object\n",
      "dtypes: int64(1), object(11)\n",
      "memory usage: 146.4+ KB\n"
     ]
    }
   ],
   "source": [
    "#paths to rating files\n",
    "rt_info_path = \"./zippedData/rt.movie_info.tsv.gz\"\n",
    "\n",
    "#read the tsv file\n",
    "rt_info_df = pd.read_csv(rt_info_path, sep='\\t')\n",
    "rt_info_df.info()"
   ]
  },
  {
   "cell_type": "code",
   "execution_count": 8,
   "metadata": {
    "scrolled": true
   },
   "outputs": [
    {
     "data": {
      "text/html": [
       "<div>\n",
       "<style scoped>\n",
       "    .dataframe tbody tr th:only-of-type {\n",
       "        vertical-align: middle;\n",
       "    }\n",
       "\n",
       "    .dataframe tbody tr th {\n",
       "        vertical-align: top;\n",
       "    }\n",
       "\n",
       "    .dataframe thead th {\n",
       "        text-align: right;\n",
       "    }\n",
       "</style>\n",
       "<table border=\"1\" class=\"dataframe\">\n",
       "  <thead>\n",
       "    <tr style=\"text-align: right;\">\n",
       "      <th></th>\n",
       "      <th>id</th>\n",
       "      <th>synopsis</th>\n",
       "      <th>rating</th>\n",
       "      <th>genre</th>\n",
       "      <th>director</th>\n",
       "      <th>writer</th>\n",
       "      <th>theater_date</th>\n",
       "      <th>dvd_date</th>\n",
       "      <th>currency</th>\n",
       "      <th>box_office</th>\n",
       "      <th>runtime</th>\n",
       "      <th>studio</th>\n",
       "    </tr>\n",
       "  </thead>\n",
       "  <tbody>\n",
       "    <tr>\n",
       "      <th>0</th>\n",
       "      <td>1</td>\n",
       "      <td>This gritty, fast-paced, and innovative police...</td>\n",
       "      <td>R</td>\n",
       "      <td>Action and Adventure|Classics|Drama</td>\n",
       "      <td>William Friedkin</td>\n",
       "      <td>Ernest Tidyman</td>\n",
       "      <td>1971-10-09</td>\n",
       "      <td>2001-09-25</td>\n",
       "      <td>NaN</td>\n",
       "      <td>NaN</td>\n",
       "      <td>104.0</td>\n",
       "      <td>NaN</td>\n",
       "    </tr>\n",
       "    <tr>\n",
       "      <th>1</th>\n",
       "      <td>3</td>\n",
       "      <td>New York City, not-too-distant-future: Eric Pa...</td>\n",
       "      <td>R</td>\n",
       "      <td>Drama|Science Fiction and Fantasy</td>\n",
       "      <td>David Cronenberg</td>\n",
       "      <td>David Cronenberg|Don DeLillo</td>\n",
       "      <td>2012-08-17</td>\n",
       "      <td>2013-01-01</td>\n",
       "      <td>$</td>\n",
       "      <td>600,000</td>\n",
       "      <td>108.0</td>\n",
       "      <td>Entertainment One</td>\n",
       "    </tr>\n",
       "    <tr>\n",
       "      <th>2</th>\n",
       "      <td>5</td>\n",
       "      <td>Illeana Douglas delivers a superb performance ...</td>\n",
       "      <td>R</td>\n",
       "      <td>Drama|Musical and Performing Arts</td>\n",
       "      <td>Allison Anders</td>\n",
       "      <td>Allison Anders</td>\n",
       "      <td>1996-09-13</td>\n",
       "      <td>2000-04-18</td>\n",
       "      <td>NaN</td>\n",
       "      <td>NaN</td>\n",
       "      <td>116.0</td>\n",
       "      <td>NaN</td>\n",
       "    </tr>\n",
       "    <tr>\n",
       "      <th>3</th>\n",
       "      <td>6</td>\n",
       "      <td>Michael Douglas runs afoul of a treacherous su...</td>\n",
       "      <td>R</td>\n",
       "      <td>Drama|Mystery and Suspense</td>\n",
       "      <td>Barry Levinson</td>\n",
       "      <td>Paul Attanasio|Michael Crichton</td>\n",
       "      <td>1994-12-09</td>\n",
       "      <td>1997-08-27</td>\n",
       "      <td>NaN</td>\n",
       "      <td>NaN</td>\n",
       "      <td>128.0</td>\n",
       "      <td>NaN</td>\n",
       "    </tr>\n",
       "    <tr>\n",
       "      <th>4</th>\n",
       "      <td>7</td>\n",
       "      <td>NaN</td>\n",
       "      <td>NR</td>\n",
       "      <td>Drama|Romance</td>\n",
       "      <td>Rodney Bennett</td>\n",
       "      <td>Giles Cooper</td>\n",
       "      <td>NaT</td>\n",
       "      <td>NaT</td>\n",
       "      <td>NaN</td>\n",
       "      <td>NaN</td>\n",
       "      <td>200.0</td>\n",
       "      <td>NaN</td>\n",
       "    </tr>\n",
       "  </tbody>\n",
       "</table>\n",
       "</div>"
      ],
      "text/plain": [
       "   id                                           synopsis rating  \\\n",
       "0   1  This gritty, fast-paced, and innovative police...      R   \n",
       "1   3  New York City, not-too-distant-future: Eric Pa...      R   \n",
       "2   5  Illeana Douglas delivers a superb performance ...      R   \n",
       "3   6  Michael Douglas runs afoul of a treacherous su...      R   \n",
       "4   7                                                NaN     NR   \n",
       "\n",
       "                                 genre          director  \\\n",
       "0  Action and Adventure|Classics|Drama  William Friedkin   \n",
       "1    Drama|Science Fiction and Fantasy  David Cronenberg   \n",
       "2    Drama|Musical and Performing Arts    Allison Anders   \n",
       "3           Drama|Mystery and Suspense    Barry Levinson   \n",
       "4                        Drama|Romance    Rodney Bennett   \n",
       "\n",
       "                            writer theater_date   dvd_date currency  \\\n",
       "0                   Ernest Tidyman   1971-10-09 2001-09-25      NaN   \n",
       "1     David Cronenberg|Don DeLillo   2012-08-17 2013-01-01        $   \n",
       "2                   Allison Anders   1996-09-13 2000-04-18      NaN   \n",
       "3  Paul Attanasio|Michael Crichton   1994-12-09 1997-08-27      NaN   \n",
       "4                     Giles Cooper          NaT        NaT      NaN   \n",
       "\n",
       "  box_office  runtime             studio  \n",
       "0        NaN    104.0                NaN  \n",
       "1    600,000    108.0  Entertainment One  \n",
       "2        NaN    116.0                NaN  \n",
       "3        NaN    128.0                NaN  \n",
       "4        NaN    200.0                NaN  "
      ]
     },
     "execution_count": 8,
     "metadata": {},
     "output_type": "execute_result"
    }
   ],
   "source": [
    "#convert datatypes\n",
    "#convert theatre_date column to datetype\n",
    "rt_info_df['theater_date'] = pd.to_datetime(rt_info_df['theater_date'], errors='coerce')\n",
    "\n",
    "#convert dvd_date column to datetype\n",
    "rt_info_df['dvd_date'] = pd.to_datetime(rt_info_df['dvd_date'], errors='coerce')\n",
    "\n",
    "#convert currency column to numeric\n",
    "#rt_info_df['currency'] = pd.to_numeric(rt_info_df['currency'], errors='coerce')\n",
    "\n",
    "#remove 'minutes' from the data and convert column to float\n",
    "rt_info_df['runtime'] = rt_info_df['runtime'].replace({r'minutes': '', r',': ''}, regex=True)\n",
    "                                      \n",
    "#convert runtime to numeric\n",
    "rt_info_df['runtime'] = pd.to_numeric(rt_info_df['runtime'], errors='coerce')\n",
    "\n",
    "rt_info_df.head()\n",
    "#rt_info_df.info()"
   ]
  },
  {
   "cell_type": "code",
   "execution_count": 9,
   "metadata": {},
   "outputs": [
    {
     "data": {
      "text/plain": [
       "Index(['id', 'synopsis', 'rating', 'genre', 'director', 'writer',\n",
       "       'theater_date', 'dvd_date', 'currency', 'box_office', 'runtime',\n",
       "       'studio'],\n",
       "      dtype='object')"
      ]
     },
     "execution_count": 9,
     "metadata": {},
     "output_type": "execute_result"
    }
   ],
   "source": [
    "rt_info_df.columns"
   ]
  },
  {
   "cell_type": "markdown",
   "metadata": {},
   "source": [
    "### Rotten Tomatoes: Reviews Data"
   ]
  },
  {
   "cell_type": "code",
   "execution_count": 13,
   "metadata": {
    "scrolled": true
   },
   "outputs": [
    {
     "name": "stdout",
     "output_type": "stream",
     "text": [
      "<class 'pandas.core.frame.DataFrame'>\n",
      "RangeIndex: 54432 entries, 0 to 54431\n",
      "Data columns (total 8 columns):\n",
      " #   Column      Non-Null Count  Dtype \n",
      "---  ------      --------------  ----- \n",
      " 0   id          54432 non-null  int64 \n",
      " 1   review      48869 non-null  object\n",
      " 2   rating      40915 non-null  object\n",
      " 3   fresh       54432 non-null  object\n",
      " 4   critic      51710 non-null  object\n",
      " 5   top_critic  54432 non-null  int64 \n",
      " 6   publisher   54123 non-null  object\n",
      " 7   date        54432 non-null  object\n",
      "dtypes: int64(2), object(6)\n",
      "memory usage: 3.3+ MB\n"
     ]
    }
   ],
   "source": [
    "#paths to rating files\n",
    "rt_reviews_path = \"./zippedData/rt.reviews.tsv.gz\"\n",
    "\n",
    "#read the tsv file\n",
    "rt_reviews_df = pd.read_csv(rt_reviews_path, sep='\\t', encoding='ISO-8859-1')\n",
    "\n",
    "rt_reviews_df.info()"
   ]
  },
  {
   "cell_type": "code",
   "execution_count": 11,
   "metadata": {
    "scrolled": true
   },
   "outputs": [
    {
     "data": {
      "text/html": [
       "<div>\n",
       "<style scoped>\n",
       "    .dataframe tbody tr th:only-of-type {\n",
       "        vertical-align: middle;\n",
       "    }\n",
       "\n",
       "    .dataframe tbody tr th {\n",
       "        vertical-align: top;\n",
       "    }\n",
       "\n",
       "    .dataframe thead th {\n",
       "        text-align: right;\n",
       "    }\n",
       "</style>\n",
       "<table border=\"1\" class=\"dataframe\">\n",
       "  <thead>\n",
       "    <tr style=\"text-align: right;\">\n",
       "      <th></th>\n",
       "      <th>id</th>\n",
       "      <th>review</th>\n",
       "      <th>rating</th>\n",
       "      <th>fresh</th>\n",
       "      <th>critic</th>\n",
       "      <th>top_critic</th>\n",
       "      <th>publisher</th>\n",
       "      <th>date</th>\n",
       "    </tr>\n",
       "  </thead>\n",
       "  <tbody>\n",
       "    <tr>\n",
       "      <th>0</th>\n",
       "      <td>3</td>\n",
       "      <td>A distinctly gallows take on contemporary fina...</td>\n",
       "      <td>3/5</td>\n",
       "      <td>fresh</td>\n",
       "      <td>PJ Nabarro</td>\n",
       "      <td>0</td>\n",
       "      <td>Patrick Nabarro</td>\n",
       "      <td>2018-11-10</td>\n",
       "    </tr>\n",
       "    <tr>\n",
       "      <th>1</th>\n",
       "      <td>3</td>\n",
       "      <td>It's an allegory in search of a meaning that n...</td>\n",
       "      <td>NaN</td>\n",
       "      <td>rotten</td>\n",
       "      <td>Annalee Newitz</td>\n",
       "      <td>0</td>\n",
       "      <td>io9.com</td>\n",
       "      <td>2018-05-23</td>\n",
       "    </tr>\n",
       "    <tr>\n",
       "      <th>2</th>\n",
       "      <td>3</td>\n",
       "      <td>... life lived in a bubble in financial dealin...</td>\n",
       "      <td>NaN</td>\n",
       "      <td>fresh</td>\n",
       "      <td>Sean Axmaker</td>\n",
       "      <td>0</td>\n",
       "      <td>Stream on Demand</td>\n",
       "      <td>2018-01-04</td>\n",
       "    </tr>\n",
       "    <tr>\n",
       "      <th>3</th>\n",
       "      <td>3</td>\n",
       "      <td>Continuing along a line introduced in last yea...</td>\n",
       "      <td>NaN</td>\n",
       "      <td>fresh</td>\n",
       "      <td>Daniel Kasman</td>\n",
       "      <td>0</td>\n",
       "      <td>MUBI</td>\n",
       "      <td>2017-11-16</td>\n",
       "    </tr>\n",
       "    <tr>\n",
       "      <th>4</th>\n",
       "      <td>3</td>\n",
       "      <td>... a perverse twist on neorealism...</td>\n",
       "      <td>NaN</td>\n",
       "      <td>fresh</td>\n",
       "      <td>NaN</td>\n",
       "      <td>0</td>\n",
       "      <td>Cinema Scope</td>\n",
       "      <td>2017-10-12</td>\n",
       "    </tr>\n",
       "  </tbody>\n",
       "</table>\n",
       "</div>"
      ],
      "text/plain": [
       "   id                                             review rating   fresh  \\\n",
       "0   3  A distinctly gallows take on contemporary fina...    3/5   fresh   \n",
       "1   3  It's an allegory in search of a meaning that n...    NaN  rotten   \n",
       "2   3  ... life lived in a bubble in financial dealin...    NaN   fresh   \n",
       "3   3  Continuing along a line introduced in last yea...    NaN   fresh   \n",
       "4   3             ... a perverse twist on neorealism...     NaN   fresh   \n",
       "\n",
       "           critic  top_critic         publisher       date  \n",
       "0      PJ Nabarro           0   Patrick Nabarro 2018-11-10  \n",
       "1  Annalee Newitz           0           io9.com 2018-05-23  \n",
       "2    Sean Axmaker           0  Stream on Demand 2018-01-04  \n",
       "3   Daniel Kasman           0              MUBI 2017-11-16  \n",
       "4             NaN           0      Cinema Scope 2017-10-12  "
      ]
     },
     "execution_count": 11,
     "metadata": {},
     "output_type": "execute_result"
    }
   ],
   "source": [
    "#convert top_critic column to numeric\n",
    "rt_reviews_df['top_critic'] = pd.to_numeric(rt_reviews_df['top_critic'], errors='coerce')\n",
    "\n",
    "#convert date column to datetype\n",
    "rt_reviews_df['date'] = pd.to_datetime(rt_reviews_df['date'], errors='coerce')\n",
    "\n",
    "rt_reviews_df.head()\n",
    "#rt_reviews_df.info()"
   ]
  },
  {
   "cell_type": "code",
   "execution_count": 12,
   "metadata": {
    "scrolled": true
   },
   "outputs": [
    {
     "data": {
      "text/plain": [
       "Index(['id', 'review', 'rating', 'fresh', 'critic', 'top_critic', 'publisher',\n",
       "       'date'],\n",
       "      dtype='object')"
      ]
     },
     "execution_count": 12,
     "metadata": {},
     "output_type": "execute_result"
    }
   ],
   "source": [
    "rt_reviews_df.columns"
   ]
  },
  {
   "cell_type": "markdown",
   "metadata": {},
   "source": [
    "### TMDb Data"
   ]
  },
  {
   "cell_type": "code",
   "execution_count": 14,
   "metadata": {
    "scrolled": true
   },
   "outputs": [
    {
     "name": "stdout",
     "output_type": "stream",
     "text": [
      "<class 'pandas.core.frame.DataFrame'>\n",
      "Index: 26517 entries, 0 to 26516\n",
      "Data columns (total 9 columns):\n",
      " #   Column             Non-Null Count  Dtype  \n",
      "---  ------             --------------  -----  \n",
      " 0   genre_ids          26517 non-null  object \n",
      " 1   id                 26517 non-null  int64  \n",
      " 2   original_language  26517 non-null  object \n",
      " 3   original_title     26517 non-null  object \n",
      " 4   popularity         26517 non-null  float64\n",
      " 5   release_date       26517 non-null  object \n",
      " 6   title              26517 non-null  object \n",
      " 7   vote_average       26517 non-null  float64\n",
      " 8   vote_count         26517 non-null  int64  \n",
      "dtypes: float64(2), int64(2), object(5)\n",
      "memory usage: 2.0+ MB\n"
     ]
    }
   ],
   "source": [
    "#path to the tmdb file\n",
    "tmdb_path = \"./zippedData/tmdb.movies.csv.gz\"\n",
    "\n",
    "#read the tsv file\n",
    "tmdb_df = pd.read_csv(tmdb_path, index_col=0)\n",
    "\n",
    "tmdb_df.info()"
   ]
  },
  {
   "cell_type": "code",
   "execution_count": 14,
   "metadata": {},
   "outputs": [
    {
     "data": {
      "text/html": [
       "<div>\n",
       "<style scoped>\n",
       "    .dataframe tbody tr th:only-of-type {\n",
       "        vertical-align: middle;\n",
       "    }\n",
       "\n",
       "    .dataframe tbody tr th {\n",
       "        vertical-align: top;\n",
       "    }\n",
       "\n",
       "    .dataframe thead th {\n",
       "        text-align: right;\n",
       "    }\n",
       "</style>\n",
       "<table border=\"1\" class=\"dataframe\">\n",
       "  <thead>\n",
       "    <tr style=\"text-align: right;\">\n",
       "      <th></th>\n",
       "      <th>genre_ids</th>\n",
       "      <th>id</th>\n",
       "      <th>original_language</th>\n",
       "      <th>original_title</th>\n",
       "      <th>popularity</th>\n",
       "      <th>release_date</th>\n",
       "      <th>title</th>\n",
       "      <th>vote_average</th>\n",
       "      <th>vote_count</th>\n",
       "    </tr>\n",
       "  </thead>\n",
       "  <tbody>\n",
       "    <tr>\n",
       "      <th>0</th>\n",
       "      <td>[12, 14, 10751]</td>\n",
       "      <td>12444</td>\n",
       "      <td>en</td>\n",
       "      <td>Harry Potter and the Deathly Hallows: Part 1</td>\n",
       "      <td>33.533</td>\n",
       "      <td>2010-11-19</td>\n",
       "      <td>Harry Potter and the Deathly Hallows: Part 1</td>\n",
       "      <td>7.7</td>\n",
       "      <td>10788</td>\n",
       "    </tr>\n",
       "    <tr>\n",
       "      <th>1</th>\n",
       "      <td>[14, 12, 16, 10751]</td>\n",
       "      <td>10191</td>\n",
       "      <td>en</td>\n",
       "      <td>How to Train Your Dragon</td>\n",
       "      <td>28.734</td>\n",
       "      <td>2010-03-26</td>\n",
       "      <td>How to Train Your Dragon</td>\n",
       "      <td>7.7</td>\n",
       "      <td>7610</td>\n",
       "    </tr>\n",
       "    <tr>\n",
       "      <th>2</th>\n",
       "      <td>[12, 28, 878]</td>\n",
       "      <td>10138</td>\n",
       "      <td>en</td>\n",
       "      <td>Iron Man 2</td>\n",
       "      <td>28.515</td>\n",
       "      <td>2010-05-07</td>\n",
       "      <td>Iron Man 2</td>\n",
       "      <td>6.8</td>\n",
       "      <td>12368</td>\n",
       "    </tr>\n",
       "    <tr>\n",
       "      <th>3</th>\n",
       "      <td>[16, 35, 10751]</td>\n",
       "      <td>862</td>\n",
       "      <td>en</td>\n",
       "      <td>Toy Story</td>\n",
       "      <td>28.005</td>\n",
       "      <td>1995-11-22</td>\n",
       "      <td>Toy Story</td>\n",
       "      <td>7.9</td>\n",
       "      <td>10174</td>\n",
       "    </tr>\n",
       "    <tr>\n",
       "      <th>4</th>\n",
       "      <td>[28, 878, 12]</td>\n",
       "      <td>27205</td>\n",
       "      <td>en</td>\n",
       "      <td>Inception</td>\n",
       "      <td>27.920</td>\n",
       "      <td>2010-07-16</td>\n",
       "      <td>Inception</td>\n",
       "      <td>8.3</td>\n",
       "      <td>22186</td>\n",
       "    </tr>\n",
       "  </tbody>\n",
       "</table>\n",
       "</div>"
      ],
      "text/plain": [
       "             genre_ids     id original_language  \\\n",
       "0      [12, 14, 10751]  12444                en   \n",
       "1  [14, 12, 16, 10751]  10191                en   \n",
       "2        [12, 28, 878]  10138                en   \n",
       "3      [16, 35, 10751]    862                en   \n",
       "4        [28, 878, 12]  27205                en   \n",
       "\n",
       "                                 original_title  popularity release_date  \\\n",
       "0  Harry Potter and the Deathly Hallows: Part 1      33.533   2010-11-19   \n",
       "1                      How to Train Your Dragon      28.734   2010-03-26   \n",
       "2                                    Iron Man 2      28.515   2010-05-07   \n",
       "3                                     Toy Story      28.005   1995-11-22   \n",
       "4                                     Inception      27.920   2010-07-16   \n",
       "\n",
       "                                          title  vote_average  vote_count  \n",
       "0  Harry Potter and the Deathly Hallows: Part 1           7.7       10788  \n",
       "1                      How to Train Your Dragon           7.7        7610  \n",
       "2                                    Iron Man 2           6.8       12368  \n",
       "3                                     Toy Story           7.9       10174  \n",
       "4                                     Inception           8.3       22186  "
      ]
     },
     "execution_count": 14,
     "metadata": {},
     "output_type": "execute_result"
    }
   ],
   "source": [
    "#convert release_date column to datetype\n",
    "tmdb_df['release_date'] = pd.to_datetime(tmdb_df['release_date'], errors='coerce')\n",
    "\n",
    "tmdb_df.head()\n",
    "#tmdb_df.info()\n"
   ]
  },
  {
   "cell_type": "markdown",
   "metadata": {},
   "source": [
    "### The Numbers Movie_Budgets Data"
   ]
  },
  {
   "cell_type": "code",
   "execution_count": 15,
   "metadata": {},
   "outputs": [
    {
     "name": "stdout",
     "output_type": "stream",
     "text": [
      "<class 'pandas.core.frame.DataFrame'>\n",
      "RangeIndex: 5782 entries, 0 to 5781\n",
      "Data columns (total 6 columns):\n",
      " #   Column             Non-Null Count  Dtype \n",
      "---  ------             --------------  ----- \n",
      " 0   id                 5782 non-null   int64 \n",
      " 1   release_date       5782 non-null   object\n",
      " 2   movie              5782 non-null   object\n",
      " 3   production_budget  5782 non-null   object\n",
      " 4   domestic_gross     5782 non-null   object\n",
      " 5   worldwide_gross    5782 non-null   object\n",
      "dtypes: int64(1), object(5)\n",
      "memory usage: 271.2+ KB\n"
     ]
    }
   ],
   "source": [
    "#create a path to the file\n",
    "tn_path = \"./zippedData/tn.movie_budgets.csv.gz\"\n",
    "\n",
    "#read the csv file\n",
    "tn_df = pd.read_csv(tn_path)\n",
    "tn_df.info()"
   ]
  },
  {
   "cell_type": "code",
   "execution_count": 16,
   "metadata": {},
   "outputs": [
    {
     "data": {
      "text/html": [
       "<div>\n",
       "<style scoped>\n",
       "    .dataframe tbody tr th:only-of-type {\n",
       "        vertical-align: middle;\n",
       "    }\n",
       "\n",
       "    .dataframe tbody tr th {\n",
       "        vertical-align: top;\n",
       "    }\n",
       "\n",
       "    .dataframe thead th {\n",
       "        text-align: right;\n",
       "    }\n",
       "</style>\n",
       "<table border=\"1\" class=\"dataframe\">\n",
       "  <thead>\n",
       "    <tr style=\"text-align: right;\">\n",
       "      <th></th>\n",
       "      <th>id</th>\n",
       "      <th>release_date</th>\n",
       "      <th>title</th>\n",
       "      <th>production_budget</th>\n",
       "      <th>domestic_gross</th>\n",
       "      <th>worldwide_gross</th>\n",
       "    </tr>\n",
       "  </thead>\n",
       "  <tbody>\n",
       "    <tr>\n",
       "      <th>0</th>\n",
       "      <td>1</td>\n",
       "      <td>2009-12-18</td>\n",
       "      <td>Avatar</td>\n",
       "      <td>425000000</td>\n",
       "      <td>760507625</td>\n",
       "      <td>2776345279</td>\n",
       "    </tr>\n",
       "    <tr>\n",
       "      <th>1</th>\n",
       "      <td>2</td>\n",
       "      <td>2011-05-20</td>\n",
       "      <td>Pirates of the Caribbean: On Stranger Tides</td>\n",
       "      <td>410600000</td>\n",
       "      <td>241063875</td>\n",
       "      <td>1045663875</td>\n",
       "    </tr>\n",
       "    <tr>\n",
       "      <th>2</th>\n",
       "      <td>3</td>\n",
       "      <td>2019-06-07</td>\n",
       "      <td>Dark Phoenix</td>\n",
       "      <td>350000000</td>\n",
       "      <td>42762350</td>\n",
       "      <td>149762350</td>\n",
       "    </tr>\n",
       "    <tr>\n",
       "      <th>3</th>\n",
       "      <td>4</td>\n",
       "      <td>2015-05-01</td>\n",
       "      <td>Avengers: Age of Ultron</td>\n",
       "      <td>330600000</td>\n",
       "      <td>459005868</td>\n",
       "      <td>1403013963</td>\n",
       "    </tr>\n",
       "    <tr>\n",
       "      <th>4</th>\n",
       "      <td>5</td>\n",
       "      <td>2017-12-15</td>\n",
       "      <td>Star Wars Ep. VIII: The Last Jedi</td>\n",
       "      <td>317000000</td>\n",
       "      <td>620181382</td>\n",
       "      <td>1316721747</td>\n",
       "    </tr>\n",
       "  </tbody>\n",
       "</table>\n",
       "</div>"
      ],
      "text/plain": [
       "   id release_date                                        title  \\\n",
       "0   1   2009-12-18                                       Avatar   \n",
       "1   2   2011-05-20  Pirates of the Caribbean: On Stranger Tides   \n",
       "2   3   2019-06-07                                 Dark Phoenix   \n",
       "3   4   2015-05-01                      Avengers: Age of Ultron   \n",
       "4   5   2017-12-15            Star Wars Ep. VIII: The Last Jedi   \n",
       "\n",
       "   production_budget  domestic_gross  worldwide_gross  \n",
       "0          425000000       760507625       2776345279  \n",
       "1          410600000       241063875       1045663875  \n",
       "2          350000000        42762350        149762350  \n",
       "3          330600000       459005868       1403013963  \n",
       "4          317000000       620181382       1316721747  "
      ]
     },
     "execution_count": 16,
     "metadata": {},
     "output_type": "execute_result"
    }
   ],
   "source": [
    "#convert release_date to datetype\n",
    "tn_df['release_date'] = pd.to_datetime(tn_df['release_date'], errors='coerce')\n",
    "\n",
    "#remove the '$' symbol and convert the columns to float\n",
    "tn_df['production_budget'] = tn_df['production_budget'].replace({'\\\\$': '', ',': ''}, regex=True)\n",
    "tn_df['domestic_gross'] = tn_df['domestic_gross'].replace({'\\\\$': '', ',': ''}, regex=True)\n",
    "tn_df['worldwide_gross'] = tn_df['worldwide_gross'].replace({'\\\\$': '', ',': ''}, regex=True)\n",
    "\n",
    "#convert the columns to numeric\n",
    "tn_df['production_budget'] = pd.to_numeric(tn_df['production_budget'])\n",
    "tn_df['domestic_gross'] = pd.to_numeric(tn_df['domestic_gross'])\n",
    "tn_df['worldwide_gross'] = pd.to_numeric(tn_df['worldwide_gross'])\n",
    "\n",
    "#rename 'movie' column to 'title'\n",
    "tn_df = tn_df.rename(columns = {'movie': 'title'})\n",
    "\n",
    "tn_df.head()\n",
    "#tn_df.info()"
   ]
  },
  {
   "cell_type": "markdown",
   "metadata": {},
   "source": [
    "## Data Preparation"
   ]
  },
  {
   "cell_type": "markdown",
   "metadata": {},
   "source": [
    "### Data Cleaning\n",
    "For the files, and Database, I normalize column names, and drop unnecessary columns for ease of working with the data."
   ]
  },
  {
   "cell_type": "markdown",
   "metadata": {},
   "source": [
    "#### Box Office Movies"
   ]
  },
  {
   "cell_type": "code",
   "execution_count": 17,
   "metadata": {},
   "outputs": [
    {
     "name": "stdout",
     "output_type": "stream",
     "text": [
      "title             0\n",
      "studio            0\n",
      "domestic_gross    0\n",
      "foreign_gross     0\n",
      "year              0\n",
      "dtype: int64\n"
     ]
    }
   ],
   "source": [
    "#\n",
    "bom_df['foreign_gross'] = pd.to_numeric(bom_df['foreign_gross'], errors='coerce')\n",
    "\n",
    "#convert column names to lowercase and strip unnecessary characters and spaces\n",
    "bom_df.columns = bom_df.columns.str.lower().str.replace(' ', '_')\n",
    "\n",
    "# drop rows where critical data is missing\n",
    "bom_df.dropna(subset=['domestic_gross', 'foreign_gross', 'studio'], inplace=True)\n",
    "\n",
    "# identify missing values\n",
    "print(bom_df.isnull().sum())"
   ]
  },
  {
   "cell_type": "markdown",
   "metadata": {},
   "source": [
    "#### Rotten Tomatoes movie info and Reviews DataFrames preparation"
   ]
  },
  {
   "cell_type": "code",
   "execution_count": 18,
   "metadata": {},
   "outputs": [
    {
     "name": "stdout",
     "output_type": "stream",
     "text": [
      "id              0\n",
      "synopsis        0\n",
      "rating          0\n",
      "genre           0\n",
      "director        0\n",
      "writer          0\n",
      "theater_date    0\n",
      "dvd_date        0\n",
      "currency        0\n",
      "box_office      0\n",
      "runtime         1\n",
      "studio          0\n",
      "dtype: int64\n"
     ]
    }
   ],
   "source": [
    "#convert column names to lowercase and strip unnecessary characters and spaces\n",
    "rt_info_df.columns = rt_info_df.columns.str.lower().str.replace(' ', '_')\n",
    "\n",
    "# drop rows where critical data is missing\n",
    "rt_info_df.dropna(subset=['currency', 'box_office', 'studio', 'director', 'writer', 'theater_date', 'dvd_date'], inplace=True)\n",
    "\n",
    "# identify missing values\n",
    "print(rt_info_df.isnull().sum())"
   ]
  },
  {
   "cell_type": "code",
   "execution_count": 19,
   "metadata": {},
   "outputs": [
    {
     "name": "stdout",
     "output_type": "stream",
     "text": [
      "id            0\n",
      "review        0\n",
      "rating        0\n",
      "fresh         0\n",
      "critic        0\n",
      "top_critic    0\n",
      "publisher     0\n",
      "date          0\n",
      "dtype: int64\n"
     ]
    }
   ],
   "source": [
    "#convert column names to lowercase and strip unnecessary characters and spaces\n",
    "rt_reviews_df.columns = rt_reviews_df.columns.str.lower().str.replace(' ', '_')\n",
    "\n",
    "#drop columns with high number of missing values\n",
    "#rt_reviews_df.drop(columns = ['rating', 'critic'], inplace=True)\n",
    "\n",
    "# drop rows where critical data is missing\n",
    "rt_reviews_df.dropna(subset=['review', 'rating', 'critic', 'publisher'], inplace=True)\n",
    "\n",
    "# identify missing values\n",
    "print(rt_reviews_df.isnull().sum())"
   ]
  },
  {
   "cell_type": "markdown",
   "metadata": {},
   "source": [
    "#### Merging Rotten Tomatoes Movie Info df and Reviews df"
   ]
  },
  {
   "cell_type": "code",
   "execution_count": 20,
   "metadata": {},
   "outputs": [
    {
     "name": "stdout",
     "output_type": "stream",
     "text": [
      "   id                                           synopsis info_rating  \\\n",
      "0   3  New York City, not-too-distant-future: Eric Pa...           R   \n",
      "1   3  New York City, not-too-distant-future: Eric Pa...           R   \n",
      "2   3  New York City, not-too-distant-future: Eric Pa...           R   \n",
      "3   3  New York City, not-too-distant-future: Eric Pa...           R   \n",
      "4   3  New York City, not-too-distant-future: Eric Pa...           R   \n",
      "\n",
      "                               genre          director  \\\n",
      "0  Drama|Science Fiction and Fantasy  David Cronenberg   \n",
      "1  Drama|Science Fiction and Fantasy  David Cronenberg   \n",
      "2  Drama|Science Fiction and Fantasy  David Cronenberg   \n",
      "3  Drama|Science Fiction and Fantasy  David Cronenberg   \n",
      "4  Drama|Science Fiction and Fantasy  David Cronenberg   \n",
      "\n",
      "                         writer theater_date   dvd_date currency box_office  \\\n",
      "0  David Cronenberg|Don DeLillo   2012-08-17 2013-01-01        $    600,000   \n",
      "1  David Cronenberg|Don DeLillo   2012-08-17 2013-01-01        $    600,000   \n",
      "2  David Cronenberg|Don DeLillo   2012-08-17 2013-01-01        $    600,000   \n",
      "3  David Cronenberg|Don DeLillo   2012-08-17 2013-01-01        $    600,000   \n",
      "4  David Cronenberg|Don DeLillo   2012-08-17 2013-01-01        $    600,000   \n",
      "\n",
      "   runtime             studio  \\\n",
      "0    108.0  Entertainment One   \n",
      "1    108.0  Entertainment One   \n",
      "2    108.0  Entertainment One   \n",
      "3    108.0  Entertainment One   \n",
      "4    108.0  Entertainment One   \n",
      "\n",
      "                                              review review_rating   fresh  \\\n",
      "0  A distinctly gallows take on contemporary fina...           3/5   fresh   \n",
      "1  Quickly grows repetitive and tiresome, meander...             C  rotten   \n",
      "2  Cronenberg is not a director to be daunted by ...           2/5  rotten   \n",
      "3  While not one of Cronenberg's stronger films, ...            B-   fresh   \n",
      "4  Robert Pattinson works mighty hard to make Cos...           2/4  rotten   \n",
      "\n",
      "           critic  top_critic           publisher       date  \n",
      "0      PJ Nabarro         0.0     Patrick Nabarro 2018-11-10  \n",
      "1  Eric D. Snider         0.0     EricDSnider.com 2013-07-17  \n",
      "2    Matt Kelemen         0.0  Las Vegas CityLife 2013-04-21  \n",
      "3    Emanuel Levy         0.0     EmanuelLevy.Com 2013-02-03  \n",
      "4  Christian Toto         0.0       Big Hollywood 2013-01-15  \n"
     ]
    }
   ],
   "source": [
    "# Merge 'rt_info_df' with 'rt_reviews_df' on the 'id' column using a left join\n",
    "rt_merged_df = pd.merge(rt_info_df, rt_reviews_df, on=\"id\", how=\"left\")\n",
    "\n",
    "# Rename the columns for clarity\n",
    "rt_merged_df.rename(columns={'rating_x': 'info_rating', 'rating_y': 'review_rating'}, inplace=True)\n",
    "\n",
    "# Check the result\n",
    "print(rt_merged_df.head())\n"
   ]
  },
  {
   "cell_type": "code",
   "execution_count": 21,
   "metadata": {},
   "outputs": [],
   "source": [
    "# Split the 'genre' column and keep only the first genre\n",
    "rt_merged_df['primary_genre'] = rt_merged_df['genre'].str.split('|').str[0]\n",
    "\n",
    "# Split the 'writer' column and keep only the first writer\n",
    "rt_merged_df['primary_writer'] = rt_merged_df['writer'].str.split('|').str[0]\n",
    "\n",
    "# Drop 'genre', 'writer', 'id', 'synopsis', 'review' columns\n",
    "rt_merged_df.drop(columns=['genre', 'writer', 'id', 'synopsis', 'review'], inplace=True)\n",
    "\n",
    "# Remove comma from the 'box_office' column and convert to integer\n",
    "rt_merged_df['box_office'] = rt_merged_df['box_office'].str.replace(',', ' ', regex=False)"
   ]
  },
  {
   "cell_type": "code",
   "execution_count": 22,
   "metadata": {},
   "outputs": [
    {
     "name": "stdout",
     "output_type": "stream",
     "text": [
      "  info_rating          director theater_date   dvd_date currency box_office  \\\n",
      "0           R  David Cronenberg   2012-08-17 2013-01-01        $    600 000   \n",
      "1           R  David Cronenberg   2012-08-17 2013-01-01        $    600 000   \n",
      "2           R  David Cronenberg   2012-08-17 2013-01-01        $    600 000   \n",
      "3           R  David Cronenberg   2012-08-17 2013-01-01        $    600 000   \n",
      "4           R  David Cronenberg   2012-08-17 2013-01-01        $    600 000   \n",
      "\n",
      "   runtime             studio review_rating   fresh          critic  \\\n",
      "0    108.0  Entertainment One           3/5   fresh      PJ Nabarro   \n",
      "1    108.0  Entertainment One             C  rotten  Eric D. Snider   \n",
      "2    108.0  Entertainment One           2/5  rotten    Matt Kelemen   \n",
      "3    108.0  Entertainment One            B-   fresh    Emanuel Levy   \n",
      "4    108.0  Entertainment One           2/4  rotten  Christian Toto   \n",
      "\n",
      "   top_critic           publisher       date primary_genre    primary_writer  \n",
      "0         0.0     Patrick Nabarro 2018-11-10         Drama  David Cronenberg  \n",
      "1         0.0     EricDSnider.com 2013-07-17         Drama  David Cronenberg  \n",
      "2         0.0  Las Vegas CityLife 2013-04-21         Drama  David Cronenberg  \n",
      "3         0.0     EmanuelLevy.Com 2013-02-03         Drama  David Cronenberg  \n",
      "4         0.0       Big Hollywood 2013-01-15         Drama  David Cronenberg  \n"
     ]
    }
   ],
   "source": [
    "print(rt_merged_df.head())"
   ]
  },
  {
   "cell_type": "markdown",
   "metadata": {},
   "source": [
    "#### TMDB df Preparation"
   ]
  },
  {
   "cell_type": "code",
   "execution_count": 23,
   "metadata": {},
   "outputs": [
    {
     "name": "stdout",
     "output_type": "stream",
     "text": [
      "genre_ids            0\n",
      "id                   0\n",
      "original_language    0\n",
      "original_title       0\n",
      "popularity           0\n",
      "release_date         0\n",
      "title                0\n",
      "vote_average         0\n",
      "vote_count           0\n",
      "dtype: int64\n"
     ]
    }
   ],
   "source": [
    "#convert column names to lowercase and strip unnecessary characters and spaces\n",
    "tmdb_df.columns = tmdb_df.columns.str.lower().str.replace(' ', '_')\n",
    "\n",
    "# identify missing values\n",
    "print(tmdb_df.isnull().sum())\n",
    "\n",
    "#drop unncessary columns\n",
    "#tmdb_df.drop(columns = ['original_language', 'original_title'], inplace=True)"
   ]
  },
  {
   "cell_type": "code",
   "execution_count": 24,
   "metadata": {
    "scrolled": true
   },
   "outputs": [
    {
     "name": "stdout",
     "output_type": "stream",
     "text": [
      "id                   0\n",
      "release_date         0\n",
      "title                0\n",
      "production_budget    0\n",
      "domestic_gross       0\n",
      "worldwide_gross      0\n",
      "dtype: int64\n"
     ]
    }
   ],
   "source": [
    "#convert column names to lowercase and strip unnecessary characters and spaces\n",
    "tn_df.columns = tn_df.columns.str.lower().str.replace(' ', '_')\n",
    "\n",
    "# identify missing values\n",
    "print(tn_df.isnull().sum())\n"
   ]
  },
  {
   "cell_type": "code",
   "execution_count": null,
   "metadata": {},
   "outputs": [],
   "source": []
  },
  {
   "cell_type": "markdown",
   "metadata": {},
   "source": [
    "#### IMDb Data Preparation"
   ]
  },
  {
   "cell_type": "code",
   "execution_count": 25,
   "metadata": {},
   "outputs": [
    {
     "name": "stdout",
     "output_type": "stream",
     "text": [
      "movie_id               0\n",
      "primary_title          0\n",
      "original_title        21\n",
      "start_year             0\n",
      "runtime_minutes    31739\n",
      "genres              5408\n",
      "dtype: int64\n",
      "movie_id     0\n",
      "person_id    0\n",
      "dtype: int64\n",
      "movie_id         0\n",
      "averagerating    0\n",
      "numvotes         0\n",
      "dtype: int64\n",
      "person_id    0\n",
      "movie_id     0\n",
      "dtype: int64\n",
      "movie_id                  0\n",
      "ordering                  0\n",
      "title                     0\n",
      "region                53293\n",
      "language             289988\n",
      "types                163256\n",
      "attributes           316778\n",
      "is_original_title        25\n",
      "dtype: int64\n",
      "movie_id         0\n",
      "averagerating    0\n",
      "numvotes         0\n",
      "dtype: int64\n",
      "person_id                  0\n",
      "primary_name               0\n",
      "birth_year            523912\n",
      "death_year            599865\n",
      "primary_profession     51340\n",
      "dtype: int64\n",
      "movie_id           0\n",
      "ordering           0\n",
      "person_id          0\n",
      "category           0\n",
      "job           850502\n",
      "characters    634826\n",
      "dtype: int64\n",
      "movie_id     0\n",
      "person_id    0\n",
      "dtype: int64\n"
     ]
    }
   ],
   "source": [
    "# identify missing values\n",
    "print(movie_basics.isnull().sum())\n",
    "print(directors.isnull().sum())\n",
    "print(movie_ratings.isnull().sum())\n",
    "print(known_for.isnull().sum())\n",
    "print(movie_akas.isnull().sum())\n",
    "print(movie_ratings.isnull().sum())\n",
    "print(persons.isnull().sum())\n",
    "print(principals.isnull().sum())\n",
    "print(writers.isnull().sum())"
   ]
  },
  {
   "cell_type": "code",
   "execution_count": 26,
   "metadata": {},
   "outputs": [
    {
     "name": "stdout",
     "output_type": "stream",
     "text": [
      "Dropped columns with more than 5% missing data: runtime_minutes\n",
      "No columns dropped from the DataFrame (threshold = 5%)\n",
      "No columns dropped from the DataFrame (threshold = 5%)\n",
      "No columns dropped from the DataFrame (threshold = 5%)\n",
      "Dropped columns with more than 5% missing data: region, language, types, attributes\n",
      "Dropped columns with more than 5% missing data: birth_year, death_year, primary_profession\n",
      "Dropped columns with more than 5% missing data: job, characters\n",
      "No columns dropped from the DataFrame (threshold = 5%)\n"
     ]
    }
   ],
   "source": [
    "# Define a function to Drop columns with more than 5% missing data\n",
    "def drop_columns(df, threshold=5):\n",
    "    # Calculate the percentage of missing data per column\n",
    "    missing_percentage = df.isnull().sum() / len(df) * 100\n",
    "    \n",
    "    # Identify columns with missing data greater than the threshold\n",
    "    columns_to_drop = missing_percentage[missing_percentage > threshold].index\n",
    "    \n",
    "    # Drop those columns\n",
    "    df.drop(columns=columns_to_drop, inplace=True)\n",
    "     # Print the columns that were dropped\n",
    "    if len(columns_to_drop) > 0:\n",
    "        print(f\"Dropped columns with more than {threshold}% missing data: {', '.join(columns_to_drop)}\")\n",
    "    else:\n",
    "        print(f\"No columns dropped from the DataFrame (threshold = {threshold}%)\")\n",
    "\n",
    "# Apply this function to each DataFrame\n",
    "drop_columns(movie_basics)\n",
    "drop_columns(directors)\n",
    "drop_columns(movie_ratings)\n",
    "drop_columns(known_for)\n",
    "drop_columns(movie_akas)\n",
    "drop_columns(persons)\n",
    "drop_columns(principals)\n",
    "drop_columns(writers)"
   ]
  },
  {
   "cell_type": "code",
   "execution_count": 27,
   "metadata": {},
   "outputs": [
    {
     "name": "stdout",
     "output_type": "stream",
     "text": [
      "movie_basics shape: (146144, 5)\n",
      "directors shape: (291174, 2)\n",
      "movie_ratings shape: (73856, 3)\n",
      "known_for shape: (1638260, 2)\n",
      "movie_akas shape: (331703, 4)\n",
      "persons shape: (606648, 2)\n",
      "principals shape: (1028186, 4)\n",
      "writers shape before dropping duplicates: (255873, 2)\n"
     ]
    }
   ],
   "source": [
    "# Check values before dropping duplicates\n",
    "print(f\"movie_basics shape: {movie_basics.shape}\")\n",
    "print(f\"directors shape: {directors.shape}\")\n",
    "print(f\"movie_ratings shape: {movie_ratings.shape}\")\n",
    "print(f\"known_for shape: {known_for.shape}\")\n",
    "print(f\"movie_akas shape: {movie_akas.shape}\")\n",
    "print(f\"persons shape: {persons.shape}\")\n",
    "print(f\"principals shape: {principals.shape}\")\n",
    "print(f\"writers shape before dropping duplicates: {writers.shape}\")"
   ]
  },
  {
   "cell_type": "code",
   "execution_count": 28,
   "metadata": {},
   "outputs": [
    {
     "name": "stdout",
     "output_type": "stream",
     "text": [
      "clean movie_basics shape: (146144, 5)\n",
      "clean directors shape: (109253, 2)\n",
      "clean movie_ratings shape: (73856, 3)\n",
      "clean known_for shape: (1638260, 2)\n",
      "clean movie_akas shape: (122302, 4)\n",
      "clean persons shape: (606648, 2)\n",
      "clean principals shape: (1028148, 4)\n",
      "clean writers shape: (178352, 2)\n"
     ]
    }
   ],
   "source": [
    "# Drop duplicates\n",
    "def drop_duplicates(df, subset=None, keep='first', inplace=True):\n",
    "    # Drop duplicates based on the subset of columns (if provided)\n",
    "    if subset:\n",
    "        df.drop_duplicates(subset=subset, keep=keep, inplace=inplace)\n",
    "    else:\n",
    "        df.drop_duplicates(keep=keep, inplace=inplace)\n",
    "\n",
    "    return df\n",
    "\n",
    "#Apply the function with appropriate subset of columns for each DataFrame\n",
    "drop_duplicates(movie_basics, subset=['movie_id'], keep='first')\n",
    "drop_duplicates(directors, subset=['person_id'], keep='first')\n",
    "drop_duplicates(movie_ratings, subset=['movie_id'], keep='first')\n",
    "drop_duplicates(known_for, subset=['movie_id', 'person_id'], keep='first')\n",
    "drop_duplicates(movie_akas, subset=['movie_id'], keep='first') \n",
    "drop_duplicates(persons, subset=['person_id'], keep='first')\n",
    "drop_duplicates(principals, subset=['movie_id', 'person_id'], keep='first')\n",
    "drop_duplicates(writers, subset=['person_id', 'movie_id'], keep='first')\n",
    "\n",
    "# Verify the results after dropping duplicates\n",
    "print(f\"clean movie_basics shape: {movie_basics.shape}\")\n",
    "print(f\"clean directors shape: {directors.shape}\")\n",
    "print(f\"clean movie_ratings shape: {movie_ratings.shape}\")\n",
    "print(f\"clean known_for shape: {known_for.shape}\")\n",
    "print(f\"clean movie_akas shape: {movie_akas.shape}\")\n",
    "print(f\"clean persons shape: {persons.shape}\")\n",
    "print(f\"clean principals shape: {principals.shape}\")\n",
    "print(f\"clean writers shape: {writers.shape}\")"
   ]
  },
  {
   "cell_type": "markdown",
   "metadata": {},
   "source": [
    "### Merging IMDb DataFrames"
   ]
  },
  {
   "cell_type": "code",
   "execution_count": 29,
   "metadata": {},
   "outputs": [
    {
     "name": "stdout",
     "output_type": "stream",
     "text": [
      "    movie_id                    primary_title              original_title  \\\n",
      "0  tt0063540                        Sunghursh                   Sunghursh   \n",
      "1  tt0063540                        Sunghursh                   Sunghursh   \n",
      "2  tt0066787  One Day Before the Rainy Season             Ashad Ka Ek Din   \n",
      "3  tt0069049       The Other Side of the Wind  The Other Side of the Wind   \n",
      "4  tt0069049       The Other Side of the Wind  The Other Side of the Wind   \n",
      "\n",
      "   start_year              genres  averagerating  numvotes  ordering_x  \\\n",
      "0        2013  Action,Crime,Drama            7.0      77.0         1.0   \n",
      "1        2013  Action,Crime,Drama            7.0      77.0         1.0   \n",
      "2        2019     Biography,Drama            7.2      43.0         1.0   \n",
      "3        2018               Drama            6.9    4517.0        10.0   \n",
      "4        2018               Drama            6.9    4517.0        10.0   \n",
      "\n",
      "                             title  is_original_title person_id_x  ordering_y  \\\n",
      "0                        Sangharsh                0.0   nm0712540         5.0   \n",
      "1                        Sangharsh                0.0   nm0712540         5.0   \n",
      "2  One Day Before the Rainy Season                0.0   nm0002411         5.0   \n",
      "3          La otra cara del viento                0.0   nm0000080         5.0   \n",
      "4          La otra cara del viento                0.0   nm0000080         5.0   \n",
      "\n",
      "   category         primary_name person_id_y  person_id  \n",
      "0  director  Harnam Singh Rawail   nm1194313        NaN  \n",
      "1  director  Harnam Singh Rawail   nm1391276        NaN  \n",
      "2  director            Mani Kaul         NaN        NaN  \n",
      "3  director         Orson Welles   nm0462648  nm0000080  \n",
      "4  director         Orson Welles   nm0613657  nm0000080  \n"
     ]
    }
   ],
   "source": [
    "# Merge `movie_basics` with `movie_ratings` on `movie_id`\n",
    "imdb_merged_df = pd.merge(movie_basics, movie_ratings, on=\"movie_id\", how=\"left\")\n",
    "\n",
    "# Merge with `movie_akas` on `movie_id`\n",
    "imdb_merged_df = pd.merge(imdb_merged_df, movie_akas, on=\"movie_id\", how=\"left\")\n",
    "\n",
    "# Merge with `directors` on `movie_id` (many-to-many relation)\n",
    "imdb_merged_df = pd.merge(imdb_merged_df, directors, on=\"movie_id\", how=\"left\")\n",
    "\n",
    "# Merge with `principals` on `movie_id` and `person_id` (many-to-many relation)\n",
    "imdb_merged_df = pd.merge(imdb_merged_df, principals, on=[\"movie_id\", \"person_id\"], how=\"left\")\n",
    "\n",
    "# Rename person_id columns after merging to avoid confusion (if necessary)\n",
    "imdb_merged_df.rename(columns={'person_id_x': 'merged_person_id', 'person_id_y': 'original_person_id'}, inplace=True)\n",
    "\n",
    "# Merge with `persons` on `person_id`\n",
    "imdb_merged_df = pd.merge(imdb_merged_df, persons, on=\"person_id\", how=\"left\", suffixes=('_merged', '_person'))\n",
    "\n",
    "# Merge with `known_for` on `movie_id`\n",
    "imdb_merged_df = pd.merge(imdb_merged_df, known_for, on=\"movie_id\", how=\"left\")\n",
    "\n",
    "# Merge with `writers` on `movie_id` and `person_id` (many-to-many relation)\n",
    "imdb_merged_df = pd.merge(imdb_merged_df, writers, left_on=[\"movie_id\", \"person_id_x\"], right_on=[\"movie_id\", \"person_id\"], how=\"left\", suffixes=('_merged', '_writer'))\n",
    "\n",
    "# Check the result\n",
    "print(imdb_merged_df.head())"
   ]
  },
  {
   "cell_type": "code",
   "execution_count": 30,
   "metadata": {},
   "outputs": [
    {
     "name": "stdout",
     "output_type": "stream",
     "text": [
      "  primary_genre\n",
      "0        Action\n",
      "1        Action\n",
      "2     Biography\n",
      "3         Drama\n",
      "4         Drama\n"
     ]
    }
   ],
   "source": [
    "# Split the 'genres' column and keep only the first genre \n",
    "imdb_merged_df['primary_genre'] = imdb_merged_df['genres'].str.split(',').str[0] \n",
    "\n",
    "#drop the original 'genres' column \n",
    "imdb_merged_df.drop(columns=['genres'], inplace=True)\n",
    "\n",
    "# Check the result\n",
    "print(imdb_merged_df[['primary_genre']].head())\n"
   ]
  },
  {
   "cell_type": "markdown",
   "metadata": {},
   "source": [
    "## Exploratory Data Analysis"
   ]
  },
  {
   "cell_type": "code",
   "execution_count": null,
   "metadata": {},
   "outputs": [],
   "source": []
  }
 ],
 "metadata": {
  "kernelspec": {
   "display_name": "Python 3 (ipykernel)",
   "language": "python",
   "name": "python3"
  },
  "language_info": {
   "codemirror_mode": {
    "name": "ipython",
    "version": 3
   },
   "file_extension": ".py",
   "mimetype": "text/x-python",
   "name": "python",
   "nbconvert_exporter": "python",
   "pygments_lexer": "ipython3",
   "version": "3.12.4"
  }
 },
 "nbformat": 4,
 "nbformat_minor": 4
}
